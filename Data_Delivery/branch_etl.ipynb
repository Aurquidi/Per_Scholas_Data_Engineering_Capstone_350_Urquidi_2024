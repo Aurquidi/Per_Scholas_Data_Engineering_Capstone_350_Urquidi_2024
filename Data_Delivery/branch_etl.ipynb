{
 "cells": [
  {
   "cell_type": "markdown",
   "metadata": {},
   "source": [
    "Initiating the process for cleaning the branch dataset. The raw data is contained in a json file. The data upload occured on 6/14/24 as prescribed in the Capstone 350 Project Requirements document. The process requires Pyspark modules."
   ]
  },
  {
   "cell_type": "code",
   "execution_count": 1,
   "metadata": {},
   "outputs": [],
   "source": [
    "import pyspark\n",
    "import pyspark.sql.functions as funct\n",
    "from pyspark.sql import SparkSession\n",
    "import pandas as pd\n",
    "import credentials as cred \n"
   ]
  },
  {
   "cell_type": "code",
   "execution_count": 2,
   "metadata": {},
   "outputs": [],
   "source": [
    "#This creates the new Sparksession\n",
    "spark = SparkSession.builder.appName(\"branch_clean\").getOrCreate()"
   ]
  },
  {
   "cell_type": "code",
   "execution_count": 3,
   "metadata": {},
   "outputs": [],
   "source": [
    "#Creating a shortcut to the filepath for the source file for branches\n",
    "branch_filepath = r\"C:\\Users\\chito\\Developer\\Capstone_350\\Raw_Data\\cdw_sapp_branch.json\"\n"
   ]
  },
  {
   "cell_type": "code",
   "execution_count": 4,
   "metadata": {},
   "outputs": [],
   "source": [
    "#The raw data json file contains multiline records that output an error when the spark.read.json function is used to attempt to load the data thus use the option(\"multiline\", True)\n",
    "\n",
    "branch_df = spark.read.option(\"multiLine\", True).json(branch_filepath)"
   ]
  },
  {
   "cell_type": "markdown",
   "metadata": {},
   "source": [
    "# **Data Exploration**"
   ]
  },
  {
   "cell_type": "code",
   "execution_count": 5,
   "metadata": {},
   "outputs": [
    {
     "name": "stdout",
     "output_type": "stream",
     "text": [
      "+-----------------+-----------+------------+------------+------------+-----------------+----------+--------------------+\n",
      "|      BRANCH_CITY|BRANCH_CODE| BRANCH_NAME|BRANCH_PHONE|BRANCH_STATE|    BRANCH_STREET|BRANCH_ZIP|        LAST_UPDATED|\n",
      "+-----------------+-----------+------------+------------+------------+-----------------+----------+--------------------+\n",
      "|        Lakeville|          1|Example Bank|  1234565276|          MN|     Bridle Court|     55044|2018-04-18T16:51:...|\n",
      "|          Huntley|          2|Example Bank|  1234618993|          IL|Washington Street|     60142|2018-04-18T16:51:...|\n",
      "|SouthRichmondHill|          3|Example Bank|  1234985926|          NY|    Warren Street|     11419|2018-04-18T16:51:...|\n",
      "|       Middleburg|          4|Example Bank|  1234663064|          FL| Cleveland Street|     32068|2018-04-18T16:51:...|\n",
      "|    KingOfPrussia|          5|Example Bank|  1234849701|          PA|      14th Street|     19406|2018-04-18T16:51:...|\n",
      "|         Paterson|          7|Example Bank|  1234144890|          NJ| Jefferson Street|      7501|2018-04-18T16:51:...|\n",
      "|        Pittsford|          8|Example Bank|  1234678272|          NY|         B Street|     14534|2018-04-18T16:51:...|\n",
      "|     Wethersfield|          9|Example Bank|  1234675219|          CT|  Jefferson Court|      6109|2018-04-18T16:51:...|\n",
      "|     NorthOlmsted|         10|Example Bank|  1234145047|          OH|   Cambridge Road|     44070|2018-04-18T16:51:...|\n",
      "|     Hillsborough|         11|Example Bank|  1234366354|          NJ|  3rd Street West|      8844|2018-04-18T16:51:...|\n",
      "+-----------------+-----------+------------+------------+------------+-----------------+----------+--------------------+\n",
      "only showing top 10 rows\n",
      "\n"
     ]
    }
   ],
   "source": [
    "#Showing the first 10 rows \n",
    "branch_df.show(10)"
   ]
  },
  {
   "cell_type": "code",
   "execution_count": 6,
   "metadata": {},
   "outputs": [
    {
     "name": "stdout",
     "output_type": "stream",
     "text": [
      "root\n",
      " |-- BRANCH_CITY: string (nullable = true)\n",
      " |-- BRANCH_CODE: long (nullable = true)\n",
      " |-- BRANCH_NAME: string (nullable = true)\n",
      " |-- BRANCH_PHONE: string (nullable = true)\n",
      " |-- BRANCH_STATE: string (nullable = true)\n",
      " |-- BRANCH_STREET: string (nullable = true)\n",
      " |-- BRANCH_ZIP: long (nullable = true)\n",
      " |-- LAST_UPDATED: string (nullable = true)\n",
      "\n"
     ]
    }
   ],
   "source": [
    "branch_df.printSchema()"
   ]
  },
  {
   "cell_type": "code",
   "execution_count": 7,
   "metadata": {},
   "outputs": [
    {
     "data": {
      "text/plain": [
       "115"
      ]
     },
     "execution_count": 7,
     "metadata": {},
     "output_type": "execute_result"
    }
   ],
   "source": [
    "branch_df.count()"
   ]
  },
  {
   "cell_type": "code",
   "execution_count": 8,
   "metadata": {},
   "outputs": [
    {
     "name": "stdout",
     "output_type": "stream",
     "text": [
      "+-------+-----------+-----------------+------------+--------------------+------------+-------------+------------------+--------------------+\n",
      "|summary|BRANCH_CITY|      BRANCH_CODE| BRANCH_NAME|        BRANCH_PHONE|BRANCH_STATE|BRANCH_STREET|        BRANCH_ZIP|        LAST_UPDATED|\n",
      "+-------+-----------+-----------------+------------+--------------------+------------+-------------+------------------+--------------------+\n",
      "|  count|        115|              115|         115|                 115|         115|          115|               115|                 115|\n",
      "|   mean|       NULL|76.67826086956522|        NULL|1.2345499259478261E9|        NULL|         NULL|  38975.2347826087|                NULL|\n",
      "| stddev|       NULL|52.94113709535237|        NULL|  258751.74757815443|        NULL|         NULL|23938.156819564818|                NULL|\n",
      "|    min|    Acworth|                1|Example Bank|          1234105725|          AL|  11th Street|              2155|2018-04-18T16:51:...|\n",
      "|    max|   YubaCity|              197|Example Bank|          1234985926|          WI|  York Street|             98908|2018-04-18T16:51:...|\n",
      "+-------+-----------+-----------------+------------+--------------------+------------+-------------+------------------+--------------------+\n",
      "\n"
     ]
    }
   ],
   "source": [
    "branch_df.describe().show()"
   ]
  },
  {
   "cell_type": "code",
   "execution_count": 9,
   "metadata": {},
   "outputs": [
    {
     "name": "stdout",
     "output_type": "stream",
     "text": [
      "115\n",
      "+---------------------------+\n",
      "|count(DISTINCT BRANCH_CITY)|\n",
      "+---------------------------+\n",
      "|                        115|\n",
      "+---------------------------+\n",
      "\n",
      "+---------------------------+\n",
      "|count(DISTINCT BRANCH_CODE)|\n",
      "+---------------------------+\n",
      "|                        115|\n",
      "+---------------------------+\n",
      "\n"
     ]
    }
   ],
   "source": [
    "print(branch_df.distinct().count()) # 115 unique branches\n",
    "branch_df.select(pyspark.sql.functions.countDistinct(\"BRANCH_CITY\")).show() #115 unique branch cities\n",
    "branch_df.select(pyspark.sql.functions.countDistinct(\"BRANCH_CODE\")).show() #115 unique branch codes"
   ]
  },
  {
   "cell_type": "code",
   "execution_count": 10,
   "metadata": {},
   "outputs": [
    {
     "name": "stdout",
     "output_type": "stream",
     "text": [
      "== Physical Plan ==\n",
      "FileScan json [BRANCH_CITY#0,BRANCH_CODE#1L,BRANCH_NAME#2,BRANCH_PHONE#3,BRANCH_STATE#4,BRANCH_STREET#5,BRANCH_ZIP#6L,LAST_UPDATED#7] Batched: false, DataFilters: [], Format: JSON, Location: InMemoryFileIndex(1 paths)[file:/C:/Users/chito/Developer/Capstone_350/Raw_Data/cdw_sapp_branch.j..., PartitionFilters: [], PushedFilters: [], ReadSchema: struct<BRANCH_CITY:string,BRANCH_CODE:bigint,BRANCH_NAME:string,BRANCH_PHONE:string,BRANCH_STATE:...\n",
      "\n",
      "\n"
     ]
    }
   ],
   "source": [
    "branch_df.explain()"
   ]
  },
  {
   "cell_type": "code",
   "execution_count": 11,
   "metadata": {},
   "outputs": [
    {
     "name": "stdout",
     "output_type": "stream",
     "text": [
      "+------------+-----+\n",
      "| BRANCH_NAME|count|\n",
      "+------------+-----+\n",
      "|Example Bank|  115|\n",
      "+------------+-----+\n",
      "\n"
     ]
    },
    {
     "data": {
      "text/plain": [
       "GroupedData[grouping expressions: [], value: [BRANCH_CITY: string, BRANCH_CODE: bigint ... 6 more fields], type: GroupBy]"
      ]
     },
     "execution_count": 11,
     "metadata": {},
     "output_type": "execute_result"
    }
   ],
   "source": [
    "branch_df.groupBy('BRANCH_NAME').count().orderBy('count').show() #All 115 branches have the Example Bank name\n",
    "branch_df.groupBy()"
   ]
  },
  {
   "cell_type": "code",
   "execution_count": 12,
   "metadata": {},
   "outputs": [
    {
     "name": "stdout",
     "output_type": "stream",
     "text": [
      "Column BRANCH_CITY has 0 missing values\n",
      "Column BRANCH_CODE has 0 missing values\n",
      "Column BRANCH_NAME has 0 missing values\n",
      "Column BRANCH_PHONE has 0 missing values\n",
      "Column BRANCH_STATE has 0 missing values\n",
      "Column BRANCH_STREET has 0 missing values\n",
      "Column BRANCH_ZIP has 0 missing values\n",
      "Column LAST_UPDATED has 0 missing values\n"
     ]
    }
   ],
   "source": [
    "from pyspark.sql.functions import col\n",
    "# Find count of NA or missing values for each column\n",
    "na_counts = {col_name: branch_df.filter(col(col_name).isNull() | (col(col_name) == \"\")).count() for col_name in branch_df.columns}\n",
    "\n",
    "# Print the counts of missing values per column\n",
    "for column, count in na_counts.items():\n",
    "    print(f\"Column {column} has {count} missing values\")"
   ]
  },
  {
   "cell_type": "markdown",
   "metadata": {},
   "source": [
    "#### Preliminary analysis indicates that the data is consistent, aligns with the schema, and there are no na or null values. As per the mapping requirements for the branch dataset, since there are no NA or Null values, there is no benefit to adding the defalut value of \"99999\". However, some of the zip code values reveal that they are missing a digit since all US zip codes have a length of 5 digits. Let's investigate how many and which zip codes are of improper length."
   ]
  },
  {
   "cell_type": "code",
   "execution_count": 13,
   "metadata": {},
   "outputs": [
    {
     "name": "stdout",
     "output_type": "stream",
     "text": [
      "+------------+------------+----------+\n",
      "| BRANCH_CITY|BRANCH_STATE|BRANCH_ZIP|\n",
      "+------------+------------+----------+\n",
      "|    Paterson|          NJ|      7501|\n",
      "|Wethersfield|          CT|      6109|\n",
      "|Hillsborough|          NJ|      8844|\n",
      "|     Medford|          MA|      2155|\n",
      "|    Rockaway|          NJ|      7866|\n",
      "|  LongBranch|          NJ|      7740|\n",
      "|   Irvington|          NJ|      7111|\n",
      "|    NewHaven|          CT|      6511|\n",
      "|      Quincy|          MA|      2169|\n",
      "+------------+------------+----------+\n",
      "\n"
     ]
    }
   ],
   "source": [
    "branch_df.select('BRANCH_CITY', 'BRANCH_STATE','BRANCH_ZIP')\\\n",
    "    .where(pyspark.sql.functions.length(branch_df[\"BRANCH_ZIP\"]) < 5).show()"
   ]
  },
  {
   "cell_type": "markdown",
   "metadata": {},
   "source": [
    "!US_zip_code_map\n"
   ]
  },
  {
   "cell_type": "markdown",
   "metadata": {},
   "source": [
    "#### **The zip code map reveals that these northeastern US states have zip codes that begin with the range of 02 - 08; thus includes the zip codes presented in the states above. The entire region has zip codes with an intial \"0\" so we will need to ajust the Branch_ZIP column to correct and add the inital \"0\" value back to the zip code.**"
   ]
  },
  {
   "cell_type": "markdown",
   "metadata": {},
   "source": [
    "<img src=\"US_zip_code_map.png\" alt=\"US Zip Code Map\" style=\"width:750px;height:600px;\">\n"
   ]
  },
  {
   "cell_type": "markdown",
   "metadata": {},
   "source": [
    "# Transforming the Data"
   ]
  },
  {
   "cell_type": "code",
   "execution_count": 14,
   "metadata": {},
   "outputs": [],
   "source": [
    "branch_df = branch_df.withColumn('BRANCH_ZIP',\\\n",
    "                    pyspark.sql.functions.when((pyspark.sql.functions.length(branch_df['BRANCH_ZIP']) == 4) &\n",
    "                        branch_df['BRANCH_STATE'].isin([\"NJ\", \"CT\", \"NH\", \"MA\", \"VT\", \"RI\", \"ME\"]),\n",
    "                    pyspark.sql.functions.format_string(\"0%s\",branch_df['BRANCH_ZIP']))\\\n",
    "                    .otherwise(branch_df[\"BRANCH_ZIP\"]))\n",
    "# \"0%s\" adds a leading 0 to each string in the column that meets both conditions as specified with the & operator"
   ]
  },
  {
   "cell_type": "code",
   "execution_count": 15,
   "metadata": {},
   "outputs": [
    {
     "name": "stdout",
     "output_type": "stream",
     "text": [
      "+-------+-----+\n",
      "|zip_len|count|\n",
      "+-------+-----+\n",
      "|      5|  115|\n",
      "+-------+-----+\n",
      "\n"
     ]
    }
   ],
   "source": [
    "#Verifying that all zip code values are of length = 5 as per zip code requirements\n",
    "branch_df.withColumn(\"zip_len\", pyspark.sql.functions.length(branch_df[\"BRANCH_ZIP\"]))\\\n",
    "    .groupBy(\"zip_len\").count().show()"
   ]
  },
  {
   "cell_type": "code",
   "execution_count": 16,
   "metadata": {},
   "outputs": [
    {
     "name": "stdout",
     "output_type": "stream",
     "text": [
      "+-----------+-----+\n",
      "|first_phone|count|\n",
      "+-----------+-----+\n",
      "|        123|  115|\n",
      "+-----------+-----+\n",
      "\n"
     ]
    }
   ],
   "source": [
    "branch_ac_df = branch_df.withColumn(\"first_phone\", pyspark.sql.functions.substring(\"BRANCH_PHONE\",0,3))\n",
    "branch_ac_df.groupBy('first_phone').count().orderBy('count').show()\n",
    "#Verifying that all phone numbers have the same prefix area code"
   ]
  },
  {
   "cell_type": "markdown",
   "metadata": {},
   "source": [
    "### Creating a User Defined Function(UDF) to transform phone numbers into the format (xxx)xxx-xxxx"
   ]
  },
  {
   "cell_type": "code",
   "execution_count": 17,
   "metadata": {},
   "outputs": [
    {
     "name": "stdout",
     "output_type": "stream",
     "text": [
      "(123)456-7890\n"
     ]
    }
   ],
   "source": [
    "def format_phone_number(phone_number):\n",
    "    if len(phone_number) == 10:\n",
    "        return f\"({phone_number[:3]}){phone_number[3:6]}-{phone_number[6:10]}\"\n",
    "    else:\n",
    "        return \"Invalid phone number length\"\n",
    "\n",
    "\n",
    "\n",
    "formatted_number = format_phone_number(\"1234567890\")\n",
    "print(formatted_number)\n",
    "\n",
    "\n",
    "\n",
    "\n",
    "\n",
    "\n",
    "\n"
   ]
  },
  {
   "cell_type": "code",
   "execution_count": 18,
   "metadata": {},
   "outputs": [
    {
     "name": "stdout",
     "output_type": "stream",
     "text": [
      "+-----------------+-----------+------------+-------------+------------+-------------------+----------+--------------------+\n",
      "|      BRANCH_CITY|BRANCH_CODE| BRANCH_NAME| BRANCH_PHONE|BRANCH_STATE|      BRANCH_STREET|BRANCH_ZIP|        LAST_UPDATED|\n",
      "+-----------------+-----------+------------+-------------+------------+-------------------+----------+--------------------+\n",
      "|        Lakeville|          1|Example Bank|(123)456-5276|          MN|       Bridle Court|     55044|2018-04-18T16:51:...|\n",
      "|          Huntley|          2|Example Bank|(123)461-8993|          IL|  Washington Street|     60142|2018-04-18T16:51:...|\n",
      "|SouthRichmondHill|          3|Example Bank|(123)498-5926|          NY|      Warren Street|     11419|2018-04-18T16:51:...|\n",
      "|       Middleburg|          4|Example Bank|(123)466-3064|          FL|   Cleveland Street|     32068|2018-04-18T16:51:...|\n",
      "|    KingOfPrussia|          5|Example Bank|(123)484-9701|          PA|        14th Street|     19406|2018-04-18T16:51:...|\n",
      "|         Paterson|          7|Example Bank|(123)414-4890|          NJ|   Jefferson Street|     07501|2018-04-18T16:51:...|\n",
      "|        Pittsford|          8|Example Bank|(123)467-8272|          NY|           B Street|     14534|2018-04-18T16:51:...|\n",
      "|     Wethersfield|          9|Example Bank|(123)467-5219|          CT|    Jefferson Court|     06109|2018-04-18T16:51:...|\n",
      "|     NorthOlmsted|         10|Example Bank|(123)414-5047|          OH|     Cambridge Road|     44070|2018-04-18T16:51:...|\n",
      "|     Hillsborough|         11|Example Bank|(123)436-6354|          NJ|    3rd Street West|     08844|2018-04-18T16:51:...|\n",
      "|   MadisonHeights|         12|Example Bank|(123)486-7175|          MI|          Mill Road|     48071|2018-04-18T16:51:...|\n",
      "|           Oviedo|         14|Example Bank|(123)493-8460|          FL|  Washington Street|     32765|2018-04-18T16:51:...|\n",
      "|    Mechanicsburg|         15|Example Bank|(123)446-2043|          PA|    Chestnut Street|     17050|2018-04-18T16:51:...|\n",
      "|        Plainview|         16|Example Bank|(123)485-7525|          NY|       Monroe Drive|     11803|2018-04-18T16:51:...|\n",
      "|          Paducah|         17|Example Bank|(123)454-6360|          KY|    Railroad Street|     42001|2018-04-18T16:51:...|\n",
      "|     Harleysville|         18|Example Bank|(123)482-4455|          PA|Church Street South|     19438|2018-04-18T16:51:...|\n",
      "|     SilverSpring|         19|Example Bank|(123)448-4380|          MD|        King Street|     20901|2018-04-18T16:51:...|\n",
      "|       Burnsville|         20|Example Bank|(123)484-0138|          MN|   Canterbury Drive|     55337|2018-04-18T16:51:...|\n",
      "|           Tacoma|         21|Example Bank|(123)436-2433|          WA|         2nd Avenue|     98444|2018-04-18T16:51:...|\n",
      "|         Carlisle|         22|Example Bank|(123)492-2492|          PA| Front Street South|     17013|2018-04-18T16:51:...|\n",
      "|           Duarte|         23|Example Bank|(123)446-0645|          CA|    Highland Avenue|     91010|2018-04-18T16:51:...|\n",
      "|          Redford|         24|Example Bank|(123)461-7414|          MI|       Grove Street|     48239|2018-04-18T16:51:...|\n",
      "|     NewBaltimore|         25|Example Bank|(123)452-5844|          MI|        Park Avenue|     48047|2018-04-18T16:51:...|\n",
      "|      LakeJackson|         26|Example Bank|(123)435-6462|          TX|    Chestnut Avenue|     77566|2018-04-18T16:51:...|\n",
      "|     WinstonSalem|         27|Example Bank|(123)483-6200|          NC|      Pin Oak Drive|     27103|2018-04-18T16:51:...|\n",
      "|       Midlothian|         28|Example Bank|(123)441-6595|          VA|    3rd Street West|     23112|2018-04-18T16:51:...|\n",
      "|         Glendora|         29|Example Bank|(123)478-5605|          CA|      School Street|     91740|2018-04-18T16:51:...|\n",
      "|        SouthLyon|         30|Example Bank|(123)491-5717|          MI|         Shady Lane|     48178|2018-04-18T16:51:...|\n",
      "|       Carrollton|         31|Example Bank|(123)414-8639|          GA|       Queen Street|     30117|2018-04-18T16:51:...|\n",
      "|           Helena|         32|Example Bank|(123)430-2170|          MT|        Aspen Court|     59601|2018-04-18T16:51:...|\n",
      "|       Loganville|         35|Example Bank|(123)431-6769|          GA|        Durham Road|     30052|2018-04-18T16:51:...|\n",
      "|         ElDorado|         36|Example Bank|(123)468-5988|          AR|      Spruce Avenue|     71730|2018-04-18T16:51:...|\n",
      "|        CapeCoral|         37|Example Bank|(123)477-1676|          FL|    Lawrence Street|     33904|2018-04-18T16:51:...|\n",
      "|       Starkville|         38|Example Bank|(123)481-0167|          MS|         7th Street|     39759|2018-04-18T16:51:...|\n",
      "|       Grandville|         39|Example Bank|(123)420-9297|          MI|   Devonshire Drive|     49418|2018-04-18T16:51:...|\n",
      "|        Jonesboro|         40|Example Bank|(123)429-5270|          GA|    Franklin Avenue|     30236|2018-04-18T16:51:...|\n",
      "|       Youngstown|         42|Example Bank|(123)423-7878|          OH|     Elmwood Avenue|     44512|2018-04-18T16:51:...|\n",
      "|          Houston|         43|Example Bank|(123)475-5992|          TX|       Ashley Court|     77016|2018-04-18T16:51:...|\n",
      "|       Greenville|         44|Example Bank|(123)473-6019|          NC|   12th Street East|     27834|2018-04-18T16:51:...|\n",
      "|         Wilmette|         45|Example Bank|(123)445-3475|          IL|     Bayberry Drive|     60091|2018-04-18T16:51:...|\n",
      "|        Levittown|         46|Example Bank|(123)494-7541|          NY|       Jones Street|     11756|2018-04-18T16:51:...|\n",
      "|        NewBerlin|         47|Example Bank|(123)487-3625|          WI|           Route 10|     53151|2018-04-18T16:51:...|\n",
      "|         Bartlett|         48|Example Bank|(123)410-5725|          IL|       Cedar Avenue|     60103|2018-04-18T16:51:...|\n",
      "|     Chambersburg|         49|Example Bank|(123)415-6589|          PA|        11th Street|     17201|2018-04-18T16:51:...|\n",
      "|          Granger|         50|Example Bank|(123)411-5442|          IN|      Fairway Drive|     46530|2018-04-18T16:51:...|\n",
      "|          Lombard|         51|Example Bank|(123)413-2382|          IL|           Route 20|     60148|2018-04-18T16:51:...|\n",
      "|           ElPaso|         52|Example Bank|(123)424-5465|          TX|      Fulton Street|     79930|2018-04-18T16:51:...|\n",
      "|          Dundalk|         53|Example Bank|(123)432-3802|          MD|        Manor Drive|     21222|2018-04-18T16:51:...|\n",
      "|     RedondoBeach|         54|Example Bank|(123)445-2537|          CA|           Oak Lane|     90278|2018-04-18T16:51:...|\n",
      "|          Rowlett|         56|Example Bank|(123)485-2596|          TX|  State Street East|     75088|2018-04-18T16:51:...|\n",
      "+-----------------+-----------+------------+-------------+------------+-------------------+----------+--------------------+\n",
      "only showing top 50 rows\n",
      "\n"
     ]
    }
   ],
   "source": [
    "from pyspark.sql.functions import udf\n",
    "from pyspark.sql.types import StringType\n",
    "\n",
    "\n",
    "\n",
    "# Create a UDF from the Python function\n",
    "format_phone_number_udf = udf(format_phone_number, StringType())\n",
    "\n",
    "# Apply the UDF to the DataFrame column\n",
    "\n",
    "branch_df = branch_df.withColumn(\"BRANCH_PHONE\", format_phone_number_udf(branch_df[\"BRANCH_PHONE\"]))\n",
    "\n",
    "branch_df.show(50\n",
    "               )\n",
    "#UDF successfully transforms the phone numbers"
   ]
  },
  {
   "cell_type": "markdown",
   "metadata": {},
   "source": [
    "### After review of the table above, one issue has become obvious. Cities that have mutiple words, like El Paso or Redondo Beach, are not seperated with a white space in the BRANCH_City column. Correcting this will provide better presenation of the column data"
   ]
  },
  {
   "cell_type": "code",
   "execution_count": 19,
   "metadata": {},
   "outputs": [
    {
     "name": "stdout",
     "output_type": "stream",
     "text": [
      "+-------------------+-----------+------------+-------------+------------+-------------------+----------+--------------------+\n",
      "|        BRANCH_CITY|BRANCH_CODE| BRANCH_NAME| BRANCH_PHONE|BRANCH_STATE|      BRANCH_STREET|BRANCH_ZIP|        LAST_UPDATED|\n",
      "+-------------------+-----------+------------+-------------+------------+-------------------+----------+--------------------+\n",
      "|          Lakeville|          1|Example Bank|(123)456-5276|          MN|       Bridle Court|     55044|2018-04-18T16:51:...|\n",
      "|            Huntley|          2|Example Bank|(123)461-8993|          IL|  Washington Street|     60142|2018-04-18T16:51:...|\n",
      "|South Richmond Hill|          3|Example Bank|(123)498-5926|          NY|      Warren Street|     11419|2018-04-18T16:51:...|\n",
      "|         Middleburg|          4|Example Bank|(123)466-3064|          FL|   Cleveland Street|     32068|2018-04-18T16:51:...|\n",
      "|    King Of Prussia|          5|Example Bank|(123)484-9701|          PA|        14th Street|     19406|2018-04-18T16:51:...|\n",
      "|           Paterson|          7|Example Bank|(123)414-4890|          NJ|   Jefferson Street|     07501|2018-04-18T16:51:...|\n",
      "|          Pittsford|          8|Example Bank|(123)467-8272|          NY|           B Street|     14534|2018-04-18T16:51:...|\n",
      "|       Wethersfield|          9|Example Bank|(123)467-5219|          CT|    Jefferson Court|     06109|2018-04-18T16:51:...|\n",
      "|      North Olmsted|         10|Example Bank|(123)414-5047|          OH|     Cambridge Road|     44070|2018-04-18T16:51:...|\n",
      "|       Hillsborough|         11|Example Bank|(123)436-6354|          NJ|    3rd Street West|     08844|2018-04-18T16:51:...|\n",
      "|    Madison Heights|         12|Example Bank|(123)486-7175|          MI|          Mill Road|     48071|2018-04-18T16:51:...|\n",
      "|             Oviedo|         14|Example Bank|(123)493-8460|          FL|  Washington Street|     32765|2018-04-18T16:51:...|\n",
      "|      Mechanicsburg|         15|Example Bank|(123)446-2043|          PA|    Chestnut Street|     17050|2018-04-18T16:51:...|\n",
      "|          Plainview|         16|Example Bank|(123)485-7525|          NY|       Monroe Drive|     11803|2018-04-18T16:51:...|\n",
      "|            Paducah|         17|Example Bank|(123)454-6360|          KY|    Railroad Street|     42001|2018-04-18T16:51:...|\n",
      "|       Harleysville|         18|Example Bank|(123)482-4455|          PA|Church Street South|     19438|2018-04-18T16:51:...|\n",
      "|      Silver Spring|         19|Example Bank|(123)448-4380|          MD|        King Street|     20901|2018-04-18T16:51:...|\n",
      "|         Burnsville|         20|Example Bank|(123)484-0138|          MN|   Canterbury Drive|     55337|2018-04-18T16:51:...|\n",
      "|             Tacoma|         21|Example Bank|(123)436-2433|          WA|         2nd Avenue|     98444|2018-04-18T16:51:...|\n",
      "|           Carlisle|         22|Example Bank|(123)492-2492|          PA| Front Street South|     17013|2018-04-18T16:51:...|\n",
      "|             Duarte|         23|Example Bank|(123)446-0645|          CA|    Highland Avenue|     91010|2018-04-18T16:51:...|\n",
      "|            Redford|         24|Example Bank|(123)461-7414|          MI|       Grove Street|     48239|2018-04-18T16:51:...|\n",
      "|      New Baltimore|         25|Example Bank|(123)452-5844|          MI|        Park Avenue|     48047|2018-04-18T16:51:...|\n",
      "|       Lake Jackson|         26|Example Bank|(123)435-6462|          TX|    Chestnut Avenue|     77566|2018-04-18T16:51:...|\n",
      "|      Winston Salem|         27|Example Bank|(123)483-6200|          NC|      Pin Oak Drive|     27103|2018-04-18T16:51:...|\n",
      "|         Midlothian|         28|Example Bank|(123)441-6595|          VA|    3rd Street West|     23112|2018-04-18T16:51:...|\n",
      "|           Glendora|         29|Example Bank|(123)478-5605|          CA|      School Street|     91740|2018-04-18T16:51:...|\n",
      "|         South Lyon|         30|Example Bank|(123)491-5717|          MI|         Shady Lane|     48178|2018-04-18T16:51:...|\n",
      "|         Carrollton|         31|Example Bank|(123)414-8639|          GA|       Queen Street|     30117|2018-04-18T16:51:...|\n",
      "|             Helena|         32|Example Bank|(123)430-2170|          MT|        Aspen Court|     59601|2018-04-18T16:51:...|\n",
      "|         Loganville|         35|Example Bank|(123)431-6769|          GA|        Durham Road|     30052|2018-04-18T16:51:...|\n",
      "|          El Dorado|         36|Example Bank|(123)468-5988|          AR|      Spruce Avenue|     71730|2018-04-18T16:51:...|\n",
      "|         Cape Coral|         37|Example Bank|(123)477-1676|          FL|    Lawrence Street|     33904|2018-04-18T16:51:...|\n",
      "|         Starkville|         38|Example Bank|(123)481-0167|          MS|         7th Street|     39759|2018-04-18T16:51:...|\n",
      "|         Grandville|         39|Example Bank|(123)420-9297|          MI|   Devonshire Drive|     49418|2018-04-18T16:51:...|\n",
      "|          Jonesboro|         40|Example Bank|(123)429-5270|          GA|    Franklin Avenue|     30236|2018-04-18T16:51:...|\n",
      "|         Youngstown|         42|Example Bank|(123)423-7878|          OH|     Elmwood Avenue|     44512|2018-04-18T16:51:...|\n",
      "|            Houston|         43|Example Bank|(123)475-5992|          TX|       Ashley Court|     77016|2018-04-18T16:51:...|\n",
      "|         Greenville|         44|Example Bank|(123)473-6019|          NC|   12th Street East|     27834|2018-04-18T16:51:...|\n",
      "|           Wilmette|         45|Example Bank|(123)445-3475|          IL|     Bayberry Drive|     60091|2018-04-18T16:51:...|\n",
      "|          Levittown|         46|Example Bank|(123)494-7541|          NY|       Jones Street|     11756|2018-04-18T16:51:...|\n",
      "|         New Berlin|         47|Example Bank|(123)487-3625|          WI|           Route 10|     53151|2018-04-18T16:51:...|\n",
      "|           Bartlett|         48|Example Bank|(123)410-5725|          IL|       Cedar Avenue|     60103|2018-04-18T16:51:...|\n",
      "|       Chambersburg|         49|Example Bank|(123)415-6589|          PA|        11th Street|     17201|2018-04-18T16:51:...|\n",
      "|            Granger|         50|Example Bank|(123)411-5442|          IN|      Fairway Drive|     46530|2018-04-18T16:51:...|\n",
      "|            Lombard|         51|Example Bank|(123)413-2382|          IL|           Route 20|     60148|2018-04-18T16:51:...|\n",
      "|            El Paso|         52|Example Bank|(123)424-5465|          TX|      Fulton Street|     79930|2018-04-18T16:51:...|\n",
      "|            Dundalk|         53|Example Bank|(123)432-3802|          MD|        Manor Drive|     21222|2018-04-18T16:51:...|\n",
      "|      Redondo Beach|         54|Example Bank|(123)445-2537|          CA|           Oak Lane|     90278|2018-04-18T16:51:...|\n",
      "|            Rowlett|         56|Example Bank|(123)485-2596|          TX|  State Street East|     75088|2018-04-18T16:51:...|\n",
      "+-------------------+-----------+------------+-------------+------------+-------------------+----------+--------------------+\n",
      "only showing top 50 rows\n",
      "\n"
     ]
    }
   ],
   "source": [
    "from pyspark.sql.functions import regexp_replace\n",
    "\n",
    "#Using regexp_replace, the text is searched through regex functionality to search for a lowercase letter followed by an uppercase letter. The two characters are then separated by a white space.\n",
    "branch_df = branch_df.withColumn(\"BRANCH_CITY\", regexp_replace(branch_df[\"BRANCH_CITY\"], r\"([a-z])([A-Z])\", r\"$1 $2\"))\n",
    "\n",
    "branch_df.show(50)\n"
   ]
  },
  {
   "cell_type": "markdown",
   "metadata": {},
   "source": [
    "#### **As outlined in the mapping document requirements, the dataframe columns should be re-ordered to reflect the document column order, such that: \n",
    "BRANCH_CODE|\n",
    "BRANCH_NAME|\n",
    "BRANCH_STREET|\n",
    "BRANCH_CITY|\n",
    "BRANCH_STATE|\n",
    "BRANCH_ZIP|\n",
    "BRANCH_PHONE|\n",
    "LAST_UPDATED|\n"
   ]
  },
  {
   "cell_type": "code",
   "execution_count": 20,
   "metadata": {},
   "outputs": [
    {
     "name": "stdout",
     "output_type": "stream",
     "text": [
      "+-----------+------------+-----------------+-------------------+------------+----------+-------------+--------------------+\n",
      "|BRANCH_CODE| BRANCH_NAME|    BRANCH_STREET|        BRANCH_CITY|BRANCH_STATE|BRANCH_ZIP| BRANCH_PHONE|        LAST_UPDATED|\n",
      "+-----------+------------+-----------------+-------------------+------------+----------+-------------+--------------------+\n",
      "|          1|Example Bank|     Bridle Court|          Lakeville|          MN|     55044|(123)456-5276|2018-04-18T16:51:...|\n",
      "|          2|Example Bank|Washington Street|            Huntley|          IL|     60142|(123)461-8993|2018-04-18T16:51:...|\n",
      "|          3|Example Bank|    Warren Street|South Richmond Hill|          NY|     11419|(123)498-5926|2018-04-18T16:51:...|\n",
      "|          4|Example Bank| Cleveland Street|         Middleburg|          FL|     32068|(123)466-3064|2018-04-18T16:51:...|\n",
      "|          5|Example Bank|      14th Street|    King Of Prussia|          PA|     19406|(123)484-9701|2018-04-18T16:51:...|\n",
      "+-----------+------------+-----------------+-------------------+------------+----------+-------------+--------------------+\n",
      "only showing top 5 rows\n",
      "\n"
     ]
    }
   ],
   "source": [
    "branch_df = branch_df.select('BRANCH_CODE','BRANCH_NAME','BRANCH_STREET','BRANCH_CITY',\n",
    "                 'BRANCH_STATE','BRANCH_ZIP','BRANCH_PHONE','LAST_UPDATED')\n",
    "\n",
    "branch_df.show(5)"
   ]
  },
  {
   "cell_type": "markdown",
   "metadata": {},
   "source": [
    "#### The final transformation requires that the LAST_UPDATED column be in a timestamp format as per the mapping document"
   ]
  },
  {
   "cell_type": "code",
   "execution_count": 21,
   "metadata": {},
   "outputs": [
    {
     "name": "stdout",
     "output_type": "stream",
     "text": [
      "+-----------+------------+-------------------+-------------------+------------+----------+-------------+-------------------+\n",
      "|BRANCH_CODE| BRANCH_NAME|      BRANCH_STREET|        BRANCH_CITY|BRANCH_STATE|BRANCH_ZIP| BRANCH_PHONE|       LAST_UPDATED|\n",
      "+-----------+------------+-------------------+-------------------+------------+----------+-------------+-------------------+\n",
      "|          1|Example Bank|       Bridle Court|          Lakeville|          MN|     55044|(123)456-5276|2018-04-18 15:51:47|\n",
      "|          2|Example Bank|  Washington Street|            Huntley|          IL|     60142|(123)461-8993|2018-04-18 15:51:47|\n",
      "|          3|Example Bank|      Warren Street|South Richmond Hill|          NY|     11419|(123)498-5926|2018-04-18 15:51:47|\n",
      "|          4|Example Bank|   Cleveland Street|         Middleburg|          FL|     32068|(123)466-3064|2018-04-18 15:51:47|\n",
      "|          5|Example Bank|        14th Street|    King Of Prussia|          PA|     19406|(123)484-9701|2018-04-18 15:51:47|\n",
      "|          7|Example Bank|   Jefferson Street|           Paterson|          NJ|     07501|(123)414-4890|2018-04-18 15:51:47|\n",
      "|          8|Example Bank|           B Street|          Pittsford|          NY|     14534|(123)467-8272|2018-04-18 15:51:47|\n",
      "|          9|Example Bank|    Jefferson Court|       Wethersfield|          CT|     06109|(123)467-5219|2018-04-18 15:51:47|\n",
      "|         10|Example Bank|     Cambridge Road|      North Olmsted|          OH|     44070|(123)414-5047|2018-04-18 15:51:47|\n",
      "|         11|Example Bank|    3rd Street West|       Hillsborough|          NJ|     08844|(123)436-6354|2018-04-18 15:51:47|\n",
      "|         12|Example Bank|          Mill Road|    Madison Heights|          MI|     48071|(123)486-7175|2018-04-18 15:51:47|\n",
      "|         14|Example Bank|  Washington Street|             Oviedo|          FL|     32765|(123)493-8460|2018-04-18 15:51:47|\n",
      "|         15|Example Bank|    Chestnut Street|      Mechanicsburg|          PA|     17050|(123)446-2043|2018-04-18 15:51:47|\n",
      "|         16|Example Bank|       Monroe Drive|          Plainview|          NY|     11803|(123)485-7525|2018-04-18 15:51:47|\n",
      "|         17|Example Bank|    Railroad Street|            Paducah|          KY|     42001|(123)454-6360|2018-04-18 15:51:47|\n",
      "|         18|Example Bank|Church Street South|       Harleysville|          PA|     19438|(123)482-4455|2018-04-18 15:51:47|\n",
      "|         19|Example Bank|        King Street|      Silver Spring|          MD|     20901|(123)448-4380|2018-04-18 15:51:47|\n",
      "|         20|Example Bank|   Canterbury Drive|         Burnsville|          MN|     55337|(123)484-0138|2018-04-18 15:51:47|\n",
      "|         21|Example Bank|         2nd Avenue|             Tacoma|          WA|     98444|(123)436-2433|2018-04-18 15:51:47|\n",
      "|         22|Example Bank| Front Street South|           Carlisle|          PA|     17013|(123)492-2492|2018-04-18 15:51:47|\n",
      "+-----------+------------+-------------------+-------------------+------------+----------+-------------+-------------------+\n",
      "only showing top 20 rows\n",
      "\n"
     ]
    }
   ],
   "source": [
    "from pyspark.sql import functions as funct\n",
    "\n",
    "\n",
    "branch_df = branch_df.withColumn('LAST_UPDATED', funct.to_timestamp('LAST_UPDATED', 'yyyy-MM-dd\\'T\\'HH:mm:ss.SSSXXX'))\n",
    "branch_df.show()\n"
   ]
  },
  {
   "cell_type": "code",
   "execution_count": 22,
   "metadata": {},
   "outputs": [
    {
     "name": "stdout",
     "output_type": "stream",
     "text": [
      "3.5.1\n"
     ]
    }
   ],
   "source": [
    "print(spark.version)\n",
    "\n"
   ]
  },
  {
   "cell_type": "markdown",
   "metadata": {},
   "source": [
    "### **Writing the branch_df directly to the creditcard_capstone DB is key. Below, you will notice several code blocks in which I tried roundabout methods of loading data. TRANSFORMING INTO A PANDAS DATAFRAME AND THEN READING TO JSON FILES CREATES AN INFINITE NUMBER OF ISSUES. DO NOT ATTEMPT THIS APPROACH!! "
   ]
  },
  {
   "cell_type": "code",
   "execution_count": 23,
   "metadata": {},
   "outputs": [],
   "source": [
    "branch_df.write.format(\"jdbc\") \\\n",
    "  .mode(\"append\") \\\n",
    "  .option(\"url\", \"jdbc:mysql://localhost:3306/creditcard_capstone\") \\\n",
    "  .option(\"dbtable\", \"creditcard_capstone.CDW_SAPP_BRANCH\") \\\n",
    "  .option(\"user\", cred.user) \\\n",
    "  .option(\"password\", cred.password) \\\n",
    "  .save()\n",
    "\n"
   ]
  },
  {
   "cell_type": "markdown",
   "metadata": {},
   "source": []
  },
  {
   "cell_type": "code",
   "execution_count": 24,
   "metadata": {},
   "outputs": [
    {
     "name": "stdout",
     "output_type": "stream",
     "text": [
      "root\n",
      " |-- BRANCH_CODE: long (nullable = true)\n",
      " |-- BRANCH_NAME: string (nullable = true)\n",
      " |-- BRANCH_STREET: string (nullable = true)\n",
      " |-- BRANCH_CITY: string (nullable = true)\n",
      " |-- BRANCH_STATE: string (nullable = true)\n",
      " |-- BRANCH_ZIP: string (nullable = true)\n",
      " |-- BRANCH_PHONE: string (nullable = true)\n",
      " |-- LAST_UPDATED: timestamp (nullable = true)\n",
      "\n"
     ]
    }
   ],
   "source": [
    "branch_df.printSchema()"
   ]
  },
  {
   "cell_type": "code",
   "execution_count": 28,
   "metadata": {},
   "outputs": [
    {
     "data": {
      "text/html": [
       "<div>\n",
       "<style scoped>\n",
       "    .dataframe tbody tr th:only-of-type {\n",
       "        vertical-align: middle;\n",
       "    }\n",
       "\n",
       "    .dataframe tbody tr th {\n",
       "        vertical-align: top;\n",
       "    }\n",
       "\n",
       "    .dataframe thead th {\n",
       "        text-align: right;\n",
       "    }\n",
       "</style>\n",
       "<table border=\"1\" class=\"dataframe\">\n",
       "  <thead>\n",
       "    <tr style=\"text-align: right;\">\n",
       "      <th></th>\n",
       "      <th>BRANCH_CODE</th>\n",
       "      <th>BRANCH_NAME</th>\n",
       "      <th>BRANCH_STREET</th>\n",
       "      <th>BRANCH_CITY</th>\n",
       "      <th>BRANCH_STATE</th>\n",
       "      <th>BRANCH_ZIP</th>\n",
       "      <th>BRANCH_PHONE</th>\n",
       "      <th>LAST_UPDATED</th>\n",
       "    </tr>\n",
       "  </thead>\n",
       "  <tbody>\n",
       "    <tr>\n",
       "      <th>0</th>\n",
       "      <td>1</td>\n",
       "      <td>Example Bank</td>\n",
       "      <td>Bridle Court</td>\n",
       "      <td>Lakeville</td>\n",
       "      <td>MN</td>\n",
       "      <td>55044</td>\n",
       "      <td>(123)456-5276</td>\n",
       "      <td>2018-04-18 15:51:47</td>\n",
       "    </tr>\n",
       "    <tr>\n",
       "      <th>1</th>\n",
       "      <td>2</td>\n",
       "      <td>Example Bank</td>\n",
       "      <td>Washington Street</td>\n",
       "      <td>Huntley</td>\n",
       "      <td>IL</td>\n",
       "      <td>60142</td>\n",
       "      <td>(123)461-8993</td>\n",
       "      <td>2018-04-18 15:51:47</td>\n",
       "    </tr>\n",
       "    <tr>\n",
       "      <th>2</th>\n",
       "      <td>3</td>\n",
       "      <td>Example Bank</td>\n",
       "      <td>Warren Street</td>\n",
       "      <td>South Richmond Hill</td>\n",
       "      <td>NY</td>\n",
       "      <td>11419</td>\n",
       "      <td>(123)498-5926</td>\n",
       "      <td>2018-04-18 15:51:47</td>\n",
       "    </tr>\n",
       "    <tr>\n",
       "      <th>3</th>\n",
       "      <td>4</td>\n",
       "      <td>Example Bank</td>\n",
       "      <td>Cleveland Street</td>\n",
       "      <td>Middleburg</td>\n",
       "      <td>FL</td>\n",
       "      <td>32068</td>\n",
       "      <td>(123)466-3064</td>\n",
       "      <td>2018-04-18 15:51:47</td>\n",
       "    </tr>\n",
       "    <tr>\n",
       "      <th>4</th>\n",
       "      <td>5</td>\n",
       "      <td>Example Bank</td>\n",
       "      <td>14th Street</td>\n",
       "      <td>King Of Prussia</td>\n",
       "      <td>PA</td>\n",
       "      <td>19406</td>\n",
       "      <td>(123)484-9701</td>\n",
       "      <td>2018-04-18 15:51:47</td>\n",
       "    </tr>\n",
       "  </tbody>\n",
       "</table>\n",
       "</div>"
      ],
      "text/plain": [
       "   BRANCH_CODE   BRANCH_NAME      BRANCH_STREET          BRANCH_CITY  \\\n",
       "0            1  Example Bank       Bridle Court            Lakeville   \n",
       "1            2  Example Bank  Washington Street              Huntley   \n",
       "2            3  Example Bank      Warren Street  South Richmond Hill   \n",
       "3            4  Example Bank   Cleveland Street           Middleburg   \n",
       "4            5  Example Bank        14th Street      King Of Prussia   \n",
       "\n",
       "  BRANCH_STATE BRANCH_ZIP   BRANCH_PHONE        LAST_UPDATED  \n",
       "0           MN      55044  (123)456-5276 2018-04-18 15:51:47  \n",
       "1           IL      60142  (123)461-8993 2018-04-18 15:51:47  \n",
       "2           NY      11419  (123)498-5926 2018-04-18 15:51:47  \n",
       "3           FL      32068  (123)466-3064 2018-04-18 15:51:47  \n",
       "4           PA      19406  (123)484-9701 2018-04-18 15:51:47  "
      ]
     },
     "execution_count": 28,
     "metadata": {},
     "output_type": "execute_result"
    }
   ],
   "source": [
    "pandas_df = branch_df.toPandas()\n",
    "pandas_df.head()"
   ]
  },
  {
   "cell_type": "code",
   "execution_count": 26,
   "metadata": {},
   "outputs": [
    {
     "name": "stdout",
     "output_type": "stream",
     "text": [
      "Package                   Version\n",
      "------------------------- -----------\n",
      "asttokens                 2.4.1\n",
      "attrs                     23.2.0\n",
      "blinker                   1.8.2\n",
      "certifi                   2024.2.2\n",
      "cffi                      1.16.0\n",
      "charset-normalizer        3.3.2\n",
      "click                     8.1.7\n",
      "colorama                  0.4.6\n",
      "comm                      0.2.2\n",
      "contourpy                 1.2.1\n",
      "cryptography              42.0.8\n",
      "cycler                    0.12.1\n",
      "dash                      2.17.0\n",
      "dash-core-components      2.0.0\n",
      "dash-html-components      2.0.0\n",
      "dash-table                5.0.0\n",
      "debugpy                   1.8.1\n",
      "decorator                 5.1.1\n",
      "executing                 2.0.1\n",
      "fastjsonschema            2.19.1\n",
      "findspark                 2.0.1\n",
      "Flask                     3.0.3\n",
      "fonttools                 4.51.0\n",
      "grpcio                    1.64.1\n",
      "grpcio-tools              1.64.1\n",
      "idna                      3.7\n",
      "importlib_metadata        7.1.0\n",
      "ipykernel                 6.29.4\n",
      "ipython                   8.23.0\n",
      "itsdangerous              2.2.0\n",
      "jedi                      0.19.1\n",
      "Jinja2                    3.1.4\n",
      "joblib                    1.4.2\n",
      "jsonschema                4.22.0\n",
      "jsonschema-specifications 2023.12.1\n",
      "jupyter_client            8.6.1\n",
      "jupyter_core              5.7.2\n",
      "kiwisolver                1.4.5\n",
      "MarkupSafe                2.1.5\n",
      "matplotlib                3.9.0\n",
      "matplotlib-inline         0.1.7\n",
      "more-itertools            10.2.0\n",
      "mysql-connector           2.2.9\n",
      "mysql-connector-python    9.0.0\n",
      "nbformat                  5.10.4\n",
      "nest-asyncio              1.6.0\n",
      "numpy                     1.26.4\n",
      "packaging                 24.0\n",
      "pandas                    2.2.2\n",
      "parso                     0.8.4\n",
      "pillow                    10.3.0\n",
      "pip                       24.1.1\n",
      "platformdirs              4.2.1\n",
      "plotly                    5.22.0\n",
      "prompt-toolkit            3.0.43\n",
      "protobuf                  5.27.2\n",
      "psutil                    5.9.8\n",
      "pure-eval                 0.2.2\n",
      "py4j                      0.10.9.7\n",
      "pyarrow                   16.1.0\n",
      "pycparser                 2.22\n",
      "Pygments                  2.17.2\n",
      "PyMySQL                   1.1.1\n",
      "pyparsing                 3.1.2\n",
      "pyspark                   3.5.1\n",
      "python-dateutil           2.9.0.post0\n",
      "pytz                      2024.1\n",
      "pywin32                   306\n",
      "pyzmq                     26.0.2\n",
      "referencing               0.35.1\n",
      "requests                  2.31.0\n",
      "retrying                  1.3.4\n",
      "rpds-py                   0.18.1\n",
      "scikit-learn              1.5.0\n",
      "scipy                     1.13.1\n",
      "seaborn                   0.13.2\n",
      "setuptools                65.5.0\n",
      "six                       1.16.0\n",
      "stack-data                0.6.3\n",
      "tenacity                  8.3.0\n",
      "threadpoolctl             3.5.0\n",
      "tornado                   6.4\n",
      "traitlets                 5.14.3\n",
      "typing_extensions         4.11.0\n",
      "tzdata                    2024.1\n",
      "urllib3                   2.2.1\n",
      "wcwidth                   0.2.13\n",
      "Werkzeug                  3.0.3\n",
      "zipp                      3.19.1\n"
     ]
    }
   ],
   "source": [
    "!pip list"
   ]
  }
 ],
 "metadata": {
  "kernelspec": {
   "display_name": "base",
   "language": "python",
   "name": "python3"
  },
  "language_info": {
   "codemirror_mode": {
    "name": "ipython",
    "version": 3
   },
   "file_extension": ".py",
   "mimetype": "text/x-python",
   "name": "python",
   "nbconvert_exporter": "python",
   "pygments_lexer": "ipython3",
   "version": "3.11.9"
  }
 },
 "nbformat": 4,
 "nbformat_minor": 2
}
