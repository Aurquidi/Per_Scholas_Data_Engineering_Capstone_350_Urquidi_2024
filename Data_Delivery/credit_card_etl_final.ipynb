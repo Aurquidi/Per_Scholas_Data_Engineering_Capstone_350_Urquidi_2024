{
  "cells": [
    {
      "cell_type": "code",
      "execution_count": 1,
      "metadata": {
        "colab": {
          "base_uri": "https://localhost:8080/"
        },
        "id": "udrf7Ik3NRtX",
        "outputId": "64986d55-362d-4a90-ac43-d97b01321de3"
      },
      "outputs": [],
      "source": [
        "# from google.colab import drive\n",
        "# drive.mount('/content/drive')"
      ]
    },
    {
      "cell_type": "code",
      "execution_count": 2,
      "metadata": {
        "colab": {
          "base_uri": "https://localhost:8080/"
        },
        "id": "kJKQeqiYjWNH",
        "outputId": "26342b1e-62aa-46af-82a2-2f91a13d7120"
      },
      "outputs": [],
      "source": [
        "# !pip install pyspark"
      ]
    },
    {
      "cell_type": "code",
      "execution_count": 3,
      "metadata": {
        "id": "8u49XbcojGRQ"
      },
      "outputs": [],
      "source": [
        "#Import all necessary libraries and packages\n",
        "\n",
        "import pyspark\n",
        "import pyspark.sql.functions as funct\n",
        "from pyspark.sql import SparkSession\n",
        "import pandas as pd\n",
        "import credentials as cred \n",
        "spark = SparkSession.builder.appName(\"credit_card_clean\").getOrCreate()"
      ]
    },
    {
      "cell_type": "code",
      "execution_count": 4,
      "metadata": {
        "id": "wbRpszgMj5Th"
      },
      "outputs": [],
      "source": [
        "credit_card_filepath = r'C:\\Users\\chito\\Developer\\Capstone_350\\Raw_Data\\cdw_sapp_credit.json'\n",
        "credit_card_df = spark.read.option('multiLine', True).json(credit_card_filepath)"
      ]
    },
    {
      "cell_type": "markdown",
      "metadata": {
        "id": "rmb2Gp0Slp-n"
      },
      "source": [
        "\n",
        "\n",
        "---\n",
        "\n",
        "\n",
        "# **DATA EXPLORATION**"
      ]
    },
    {
      "cell_type": "code",
      "execution_count": 5,
      "metadata": {
        "colab": {
          "base_uri": "https://localhost:8080/"
        },
        "id": "nG1CBnwMlfL5",
        "outputId": "b872d59d-0ac1-4417-9e51-8191b7b81c81"
      },
      "outputs": [
        {
          "name": "stdout",
          "output_type": "stream",
          "text": [
            "root\n",
            " |-- BRANCH_CODE: long (nullable = true)\n",
            " |-- CREDIT_CARD_NO: string (nullable = true)\n",
            " |-- CUST_SSN: long (nullable = true)\n",
            " |-- DAY: long (nullable = true)\n",
            " |-- MONTH: long (nullable = true)\n",
            " |-- TRANSACTION_ID: long (nullable = true)\n",
            " |-- TRANSACTION_TYPE: string (nullable = true)\n",
            " |-- TRANSACTION_VALUE: double (nullable = true)\n",
            " |-- YEAR: long (nullable = true)\n",
            "\n"
          ]
        }
      ],
      "source": [
        "credit_card_df.printSchema()"
      ]
    },
    {
      "cell_type": "code",
      "execution_count": 6,
      "metadata": {
        "colab": {
          "base_uri": "https://localhost:8080/"
        },
        "id": "uDIrDnqwlnVU",
        "outputId": "aa07016c-7604-4e83-9cb2-45037b18349e"
      },
      "outputs": [
        {
          "name": "stdout",
          "output_type": "stream",
          "text": [
            "+-----------+----------------+---------+---+-----+--------------+----------------+-----------------+----+\n",
            "|BRANCH_CODE|  CREDIT_CARD_NO| CUST_SSN|DAY|MONTH|TRANSACTION_ID|TRANSACTION_TYPE|TRANSACTION_VALUE|YEAR|\n",
            "+-----------+----------------+---------+---+-----+--------------+----------------+-----------------+----+\n",
            "|        114|4210653349028689|123459988| 14|    2|             1|       Education|             78.9|2018|\n",
            "|         35|4210653349028689|123459988| 20|    3|             2|   Entertainment|            14.24|2018|\n",
            "|        160|4210653349028689|123459988|  8|    7|             3|         Grocery|             56.7|2018|\n",
            "|        114|4210653349028689|123459988| 19|    4|             4|   Entertainment|            59.73|2018|\n",
            "|         93|4210653349028689|123459988| 10|   10|             5|             Gas|             3.59|2018|\n",
            "+-----------+----------------+---------+---+-----+--------------+----------------+-----------------+----+\n",
            "only showing top 5 rows\n",
            "\n"
          ]
        }
      ],
      "source": [
        "credit_card_df.show(5)"
      ]
    },
    {
      "cell_type": "code",
      "execution_count": 7,
      "metadata": {
        "colab": {
          "base_uri": "https://localhost:8080/"
        },
        "id": "rtWmKhEImC41",
        "outputId": "1ae8cc74-bf79-43b7-f2ca-b9504b0ef394"
      },
      "outputs": [
        {
          "data": {
            "text/plain": [
              "46694"
            ]
          },
          "execution_count": 7,
          "metadata": {},
          "output_type": "execute_result"
        }
      ],
      "source": [
        "credit_card_df.count()"
      ]
    },
    {
      "cell_type": "code",
      "execution_count": 8,
      "metadata": {
        "colab": {
          "base_uri": "https://localhost:8080/"
        },
        "id": "37-5fi0gm7fe",
        "outputId": "78cf718d-fe7b-4aef-9841-759fea21ff40"
      },
      "outputs": [
        {
          "name": "stdout",
          "output_type": "stream",
          "text": [
            "+-------+------------------+--------------------+-------------------+-----------------+-----------------+------------------+----------------+------------------+------+\n",
            "|summary|       BRANCH_CODE|      CREDIT_CARD_NO|           CUST_SSN|              DAY|            MONTH|    TRANSACTION_ID|TRANSACTION_TYPE| TRANSACTION_VALUE|  YEAR|\n",
            "+-------+------------------+--------------------+-------------------+-----------------+-----------------+------------------+----------------+------------------+------+\n",
            "|  count|             46694|               46694|              46694|            46694|            46694|             46694|           46694|             46694| 46694|\n",
            "|   mean| 75.00057823274939|4.210653353369430...|1.234555184812824E8|14.50736711354778|6.516875829871076|           23347.5|            NULL|  51.0393821475995|2018.0|\n",
            "| stddev|51.389074910957966| 2.560464160562429E7| 2561.2609101349194| 8.06630502251638|3.453507942126967|13479.541071564714|            NULL|28.783264046884966|   0.0|\n",
            "|    min|                 1|    4210653310061055|          123451007|                1|                1|                 1|           Bills|              1.01|  2018|\n",
            "|    max|               192|    4210653399939240|          123459988|               28|               12|             46694|            Test|            100.99|  2018|\n",
            "+-------+------------------+--------------------+-------------------+-----------------+-----------------+------------------+----------------+------------------+------+\n",
            "\n"
          ]
        }
      ],
      "source": [
        "credit_card_df.describe().show()"
      ]
    },
    {
      "cell_type": "markdown",
      "metadata": {
        "id": "UdC14hjLnXq6"
      },
      "source": [
        "## There are 46694 records in this file. Looking at the dataframe with describe(method) reveals that each field has the same count. Thus, there are no null or missing values to consider.There are 115 branch codes with branch numbers raning from 1 to 197 which was previously  confirmed in the other dataframes. The social security numbers are within the min and max range so they are all 16 digits long. Similarly, Social Security number s are within the min and max range are all 10 digists long, all months of the year are represented, and 28 days of the month. All transactions occurred in 2018."
      ]
    },
    {
      "cell_type": "markdown",
      "metadata": {
        "id": "yvkC8JgLpxGA"
      },
      "source": [
        "### An important steop is to confirm that each credit card number has a unique identifier attached to it. If not, we can conclude there are errors or some customers have multiple credit cards which can be a reasonable assumption."
      ]
    },
    {
      "cell_type": "code",
      "execution_count": 9,
      "metadata": {
        "colab": {
          "base_uri": "https://localhost:8080/"
        },
        "id": "exxtvfhIpfiv",
        "outputId": "5e1da5e5-600d-46ec-fe47-9f3862d84f98"
      },
      "outputs": [
        {
          "name": "stdout",
          "output_type": "stream",
          "text": [
            "+------------------------------+\n",
            "|count(DISTINCT CREDIT_CARD_NO)|\n",
            "+------------------------------+\n",
            "|                           952|\n",
            "+------------------------------+\n",
            "\n",
            "+------------------------+\n",
            "|count(DISTINCT CUST_SSN)|\n",
            "+------------------------+\n",
            "|                     952|\n",
            "+------------------------+\n",
            "\n",
            "+---------------------------+\n",
            "|count(DISTINCT BRANCH_CODE)|\n",
            "+---------------------------+\n",
            "|                        114|\n",
            "+---------------------------+\n",
            "\n"
          ]
        },
        {
          "data": {
            "text/plain": [
              "952"
            ]
          },
          "execution_count": 9,
          "metadata": {},
          "output_type": "execute_result"
        }
      ],
      "source": [
        "credit_card_df.select(funct.countDistinct(\"CREDIT_CARD_NO\")).show()\n",
        "credit_card_df.select(funct.countDistinct(\"CUST_SSN\")).show()\n",
        "credit_card_df.select(funct.countDistinct(\"BRANCH_CODE\")).show()\n",
        "credit_card_ssn = credit_card_df.select(\"CREDIT_CARD_NO\",\"CUST_SSN\").groupBy(\"CREDIT_CARD_NO\",\"CUST_SSN\").count()\n",
        "credit_card_ssn.count()"
      ]
    },
    {
      "cell_type": "markdown",
      "metadata": {
        "id": "AVz1dz1nrHeM"
      },
      "source": [
        "### The grouping indicates that there are an equal number of credit card numbers and unique customer social security numbers."
      ]
    },
    {
      "cell_type": "markdown",
      "metadata": {
        "id": "TZH8gxbVqaXX"
      },
      "source": []
    },
    {
      "cell_type": "markdown",
      "metadata": {
        "id": "DBZFt_a9sPa-"
      },
      "source": [
        "### Also, helpful to review if the transactions typify what you would expect with the use of credit cards, albeit some transactions may reflect personal preferences for customers that could be private."
      ]
    },
    {
      "cell_type": "code",
      "execution_count": 10,
      "metadata": {
        "colab": {
          "base_uri": "https://localhost:8080/"
        },
        "id": "I2BUtJ44sNPQ",
        "outputId": "7f1d5173-19eb-4754-faae-87e210edd57e"
      },
      "outputs": [
        {
          "name": "stdout",
          "output_type": "stream",
          "text": [
            "+----------------+-----+\n",
            "|TRANSACTION_TYPE|count|\n",
            "+----------------+-----+\n",
            "|           Bills| 6861|\n",
            "|      Healthcare| 6723|\n",
            "|            Test| 6683|\n",
            "|       Education| 6638|\n",
            "|   Entertainment| 6635|\n",
            "|             Gas| 6605|\n",
            "|         Grocery| 6549|\n",
            "+----------------+-----+\n",
            "\n"
          ]
        }
      ],
      "source": [
        "credit_card_df.groupBy('TRANSACTION_TYPE').count().orderBy(funct.col('count').desc()).show()"
      ]
    },
    {
      "cell_type": "markdown",
      "metadata": {
        "id": "_HpLcJcqszp2"
      },
      "source": [
        "### These are all very generic categories. Expected more variety; however, these are all within expectations of transaction types. The test category seems that it reflects test transactions when many times credit cards will be tested with small dollar amounts to verify the validity of the credit card or with certain transactions that require a hold."
      ]
    },
    {
      "cell_type": "markdown",
      "metadata": {
        "id": "jk9LcLeXtqMw"
      },
      "source": [
        "\n",
        "\n",
        "---\n",
        "\n",
        "\n",
        "# **TRANSFORMING THE DATA**"
      ]
    },
    {
      "cell_type": "code",
      "execution_count": 11,
      "metadata": {
        "colab": {
          "base_uri": "https://localhost:8080/"
        },
        "id": "zp5oMoKxNB6t",
        "outputId": "d0a256da-6aa5-419c-a101-47d679fc7552"
      },
      "outputs": [
        {
          "name": "stdout",
          "output_type": "stream",
          "text": [
            "+---+-----+----+--------+\n",
            "|DAY|MONTH|YEAR|  TIMEID|\n",
            "+---+-----+----+--------+\n",
            "| 14|   02|2018|20180214|\n",
            "| 20|   03|2018|20180320|\n",
            "| 08|   07|2018|20180708|\n",
            "| 19|   04|2018|20180419|\n",
            "| 10|   10|2018|20181010|\n",
            "+---+-----+----+--------+\n",
            "only showing top 5 rows\n",
            "\n",
            "+-----------+----------------+---------+--------------+----------------+-----------------+--------+\n",
            "|BRANCH_CODE|  CREDIT_CARD_NO| CUST_SSN|TRANSACTION_ID|TRANSACTION_TYPE|TRANSACTION_VALUE|  TIMEID|\n",
            "+-----------+----------------+---------+--------------+----------------+-----------------+--------+\n",
            "|        114|4210653349028689|123459988|             1|       Education|             78.9|20180214|\n",
            "|         35|4210653349028689|123459988|             2|   Entertainment|            14.24|20180320|\n",
            "|        160|4210653349028689|123459988|             3|         Grocery|             56.7|20180708|\n",
            "|        114|4210653349028689|123459988|             4|   Entertainment|            59.73|20180419|\n",
            "|         93|4210653349028689|123459988|             5|             Gas|             3.59|20181010|\n",
            "+-----------+----------------+---------+--------------+----------------+-----------------+--------+\n",
            "only showing top 5 rows\n",
            "\n"
          ]
        }
      ],
      "source": [
        "from pyspark.sql.functions import concat, col, expr, lpad\n",
        "\n",
        "# Pad single-digit months with a leading zero\n",
        "credit_card_df = credit_card_df.withColumn(\"MONTH\", lpad(col(\"MONTH\"), 2, '0'))\n",
        "\n",
        "# Pad single-digit days with a leading zero\n",
        "credit_card_df = credit_card_df.withColumn(\"DAY\", lpad(col(\"DAY\"), 2, '0'))\n",
        "\n",
        "# Create a new column with the concatenated date fields\n",
        "credit_card_df = credit_card_df.withColumn(\"TIMEID\",  funct.format_string(\"%s%s%s\",\n",
        "            credit_card_df['YEAR'], credit_card_df['MONTH'], credit_card_df['DAY']))\n",
        "# Convert the new column to a date format\n",
        "#credit_card_df = credit_card_df.withColumn(\"TIMEID\", expr(\"to_date(TIMEID, 'yyyyMMdd')\"))\n",
        "credit_card_df.select(\"DAY\",\"MONTH\",\"YEAR\",\"TIMEID\").show(5)\n",
        "# Drop the original date columns\n",
        "credit_card_df = credit_card_df.drop(\"YEAR\", \"MONTH\", \"DAY\")\n",
        "\n",
        "# Show the first five rows of the transformed dataframe\n",
        "credit_card_df.show(5)"
      ]
    },
    {
      "cell_type": "markdown",
      "metadata": {
        "id": "UCKPfOUoPu1b"
      },
      "source": [
        "### The Day, Month, and Year have been joined into a new column called TIMEID with the appropriate format of yyMMdd as per the mapping document."
      ]
    },
    {
      "cell_type": "code",
      "execution_count": 12,
      "metadata": {
        "id": "O7JgpsEmQHAJ"
      },
      "outputs": [],
      "source": [
        "#Reording the dataframe columns as described in the mapping document\n",
        "credit_card_df = credit_card_df.select('TRANSACTION_ID','CREDIT_CARD_NO','TIMEID','CUST_SSN',\n",
        "                     'BRANCH_CODE','TRANSACTION_TYPE','TRANSACTION_VALUE')\n"
      ]
    },
    {
      "cell_type": "code",
      "execution_count": 13,
      "metadata": {},
      "outputs": [],
      "source": [
        "credit_card_df.write.format(\"jdbc\") \\\n",
        "  .mode(\"overwrite\") \\\n",
        "  .option(\"url\", \"jdbc:mysql://localhost:3306/creditcard_capstone\") \\\n",
        "  .option(\"dbtable\", \"creditcard_capstone.CDW_SAPP_CREDIT_CARD\") \\\n",
        "  .option(\"user\", cred.user) \\\n",
        "  .option(\"password\", cred.password) \\\n",
        "  .save()\n"
      ]
    },
    {
      "cell_type": "code",
      "execution_count": 14,
      "metadata": {
        "colab": {
          "base_uri": "https://localhost:8080/",
          "height": 226
        },
        "id": "APjzPO9eQiAg",
        "outputId": "4068865e-0d51-42c8-eab3-6043246cea44"
      },
      "outputs": [
        {
          "data": {
            "text/html": [
              "<div>\n",
              "<style scoped>\n",
              "    .dataframe tbody tr th:only-of-type {\n",
              "        vertical-align: middle;\n",
              "    }\n",
              "\n",
              "    .dataframe tbody tr th {\n",
              "        vertical-align: top;\n",
              "    }\n",
              "\n",
              "    .dataframe thead th {\n",
              "        text-align: right;\n",
              "    }\n",
              "</style>\n",
              "<table border=\"1\" class=\"dataframe\">\n",
              "  <thead>\n",
              "    <tr style=\"text-align: right;\">\n",
              "      <th></th>\n",
              "      <th>TRANSACTION_ID</th>\n",
              "      <th>CREDIT_CARD_NO</th>\n",
              "      <th>TIMEID</th>\n",
              "      <th>CUST_SSN</th>\n",
              "      <th>BRANCH_CODE</th>\n",
              "      <th>TRANSACTION_TYPE</th>\n",
              "      <th>TRANSACTION_VALUE</th>\n",
              "    </tr>\n",
              "  </thead>\n",
              "  <tbody>\n",
              "    <tr>\n",
              "      <th>0</th>\n",
              "      <td>1</td>\n",
              "      <td>4210653349028689</td>\n",
              "      <td>20180214</td>\n",
              "      <td>123459988</td>\n",
              "      <td>114</td>\n",
              "      <td>Education</td>\n",
              "      <td>78.90</td>\n",
              "    </tr>\n",
              "    <tr>\n",
              "      <th>1</th>\n",
              "      <td>2</td>\n",
              "      <td>4210653349028689</td>\n",
              "      <td>20180320</td>\n",
              "      <td>123459988</td>\n",
              "      <td>35</td>\n",
              "      <td>Entertainment</td>\n",
              "      <td>14.24</td>\n",
              "    </tr>\n",
              "    <tr>\n",
              "      <th>2</th>\n",
              "      <td>3</td>\n",
              "      <td>4210653349028689</td>\n",
              "      <td>20180708</td>\n",
              "      <td>123459988</td>\n",
              "      <td>160</td>\n",
              "      <td>Grocery</td>\n",
              "      <td>56.70</td>\n",
              "    </tr>\n",
              "    <tr>\n",
              "      <th>3</th>\n",
              "      <td>4</td>\n",
              "      <td>4210653349028689</td>\n",
              "      <td>20180419</td>\n",
              "      <td>123459988</td>\n",
              "      <td>114</td>\n",
              "      <td>Entertainment</td>\n",
              "      <td>59.73</td>\n",
              "    </tr>\n",
              "    <tr>\n",
              "      <th>4</th>\n",
              "      <td>5</td>\n",
              "      <td>4210653349028689</td>\n",
              "      <td>20181010</td>\n",
              "      <td>123459988</td>\n",
              "      <td>93</td>\n",
              "      <td>Gas</td>\n",
              "      <td>3.59</td>\n",
              "    </tr>\n",
              "  </tbody>\n",
              "</table>\n",
              "</div>"
            ],
            "text/plain": [
              "   TRANSACTION_ID    CREDIT_CARD_NO    TIMEID   CUST_SSN  BRANCH_CODE  \\\n",
              "0               1  4210653349028689  20180214  123459988          114   \n",
              "1               2  4210653349028689  20180320  123459988           35   \n",
              "2               3  4210653349028689  20180708  123459988          160   \n",
              "3               4  4210653349028689  20180419  123459988          114   \n",
              "4               5  4210653349028689  20181010  123459988           93   \n",
              "\n",
              "  TRANSACTION_TYPE  TRANSACTION_VALUE  \n",
              "0        Education              78.90  \n",
              "1    Entertainment              14.24  \n",
              "2          Grocery              56.70  \n",
              "3    Entertainment              59.73  \n",
              "4              Gas               3.59  "
            ]
          },
          "execution_count": 14,
          "metadata": {},
          "output_type": "execute_result"
        }
      ],
      "source": [
        "pandas_df = credit_card_df.toPandas()\n",
        "pandas_df.head()"
      ]
    },
    {
      "cell_type": "code",
      "execution_count": 15,
      "metadata": {},
      "outputs": [
        {
          "name": "stdout",
          "output_type": "stream",
          "text": [
            "Package                   Version\n",
            "------------------------- -----------\n",
            "asttokens                 2.4.1\n",
            "attrs                     23.2.0\n",
            "blinker                   1.8.2\n",
            "branca                    0.7.2\n",
            "certifi                   2024.2.2\n",
            "cffi                      1.16.0\n",
            "charset-normalizer        3.3.2\n",
            "click                     8.1.7\n",
            "colorama                  0.4.6\n",
            "comm                      0.2.2\n",
            "contourpy                 1.2.1\n",
            "cryptography              42.0.8\n",
            "cycler                    0.12.1\n",
            "dash                      2.17.0\n",
            "dash-core-components      2.0.0\n",
            "dash-html-components      2.0.0\n",
            "dash-table                5.0.0\n",
            "debugpy                   1.8.1\n",
            "decorator                 5.1.1\n",
            "executing                 2.0.1\n",
            "fastjsonschema            2.19.1\n",
            "findspark                 2.0.1\n",
            "Flask                     3.0.3\n",
            "folium                    0.17.0\n",
            "fonttools                 4.51.0\n",
            "greenlet                  3.0.3\n",
            "grpcio                    1.64.1\n",
            "grpcio-tools              1.64.1\n",
            "idna                      3.7\n",
            "importlib_metadata        7.1.0\n",
            "ipykernel                 6.29.4\n",
            "ipython                   8.23.0\n",
            "itsdangerous              2.2.0\n",
            "jedi                      0.19.1\n",
            "Jinja2                    3.1.4\n",
            "joblib                    1.4.2\n",
            "jsonschema                4.22.0\n",
            "jsonschema-specifications 2023.12.1\n",
            "jupyter_client            8.6.1\n",
            "jupyter_core              5.7.2\n",
            "kiwisolver                1.4.5\n",
            "MarkupSafe                2.1.5\n",
            "matplotlib                3.9.0\n",
            "matplotlib-inline         0.1.7\n",
            "more-itertools            10.2.0\n",
            "mysql-connector           2.2.9\n",
            "mysql-connector-python    9.0.0\n",
            "nbformat                  5.10.4\n",
            "nest-asyncio              1.6.0\n",
            "numpy                     1.26.4\n",
            "packaging                 24.0\n",
            "pandas                    2.2.2\n",
            "parso                     0.8.4\n",
            "pillow                    10.3.0\n",
            "pip                       24.1.2\n",
            "platformdirs              4.2.1\n",
            "plotly                    5.22.0\n",
            "prompt-toolkit            3.0.43\n",
            "protobuf                  5.27.2\n",
            "psutil                    5.9.8\n",
            "pure-eval                 0.2.2\n",
            "py4j                      0.10.9.7\n",
            "pyarrow                   16.1.0\n",
            "pycparser                 2.22\n",
            "Pygments                  2.17.2\n",
            "PyMySQL                   1.1.1\n",
            "pyparsing                 3.1.2\n",
            "pyspark                   3.5.1\n",
            "python-dateutil           2.9.0.post0\n",
            "pytz                      2024.1\n",
            "pywin32                   306\n",
            "pyzmq                     26.0.2\n",
            "referencing               0.35.1\n",
            "requests                  2.31.0\n",
            "retrying                  1.3.4\n",
            "rpds-py                   0.18.1\n",
            "scikit-learn              1.5.0\n",
            "scipy                     1.13.1\n",
            "seaborn                   0.13.2\n",
            "setuptools                65.5.0\n",
            "six                       1.16.0\n",
            "SQLAlchemy                2.0.31\n",
            "stack-data                0.6.3\n",
            "tenacity                  8.3.0\n",
            "threadpoolctl             3.5.0\n",
            "tornado                   6.4\n",
            "traitlets                 5.14.3\n",
            "typing_extensions         4.11.0\n",
            "tzdata                    2024.1\n",
            "urllib3                   2.2.1\n",
            "wcwidth                   0.2.13\n",
            "Werkzeug                  3.0.3\n",
            "xyzservices               2024.6.0\n",
            "zipp                      3.19.1\n"
          ]
        }
      ],
      "source": [
        "!pip list"
      ]
    }
  ],
  "metadata": {
    "colab": {
      "provenance": []
    },
    "kernelspec": {
      "display_name": "Python 3",
      "language": "python",
      "name": "python3"
    },
    "language_info": {
      "codemirror_mode": {
        "name": "ipython",
        "version": 3
      },
      "file_extension": ".py",
      "mimetype": "text/x-python",
      "name": "python",
      "nbconvert_exporter": "python",
      "pygments_lexer": "ipython3",
      "version": "3.11.9"
    }
  },
  "nbformat": 4,
  "nbformat_minor": 0
}
